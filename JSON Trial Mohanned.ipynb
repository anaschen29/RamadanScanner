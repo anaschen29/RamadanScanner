{
 "cells": [
  {
   "cell_type": "code",
   "execution_count": 1,
   "id": "6e029005-6029-4601-aa32-7b36e767c778",
   "metadata": {},
   "outputs": [],
   "source": [
    "import json \n",
    "import requests\n"
   ]
  },
  {
   "cell_type": "code",
   "execution_count": 12,
   "id": "d0ac7108-7351-4f3b-abae-3db43e99f00a",
   "metadata": {},
   "outputs": [],
   "source": [
    "base_url = 'https://jmi2gxpho8.execute-api.us-east-1.amazonaws.com/abgtQuiz?event='"
   ]
  },
  {
   "cell_type": "code",
   "execution_count": 13,
   "id": "0f4bd63b-0de4-431d-91cc-60d6518710b0",
   "metadata": {},
   "outputs": [],
   "source": [
    "date = '2024-03-21'\n",
    "\n",
    "parameters = { \"t\": \"get_specific_day\", \"date\": date }\n",
    "args = json.dumps(parameters)\n"
   ]
  },
  {
   "cell_type": "code",
   "execution_count": 14,
   "id": "631264b9-bacf-4f23-a253-8ccad9304720",
   "metadata": {},
   "outputs": [],
   "source": [
    "new_url = base_url+args"
   ]
  },
  {
   "cell_type": "code",
   "execution_count": 15,
   "id": "a4f39212-75ce-4da3-99e4-1c04e20289d1",
   "metadata": {},
   "outputs": [
    {
     "data": {
      "text/plain": [
       "'https://jmi2gxpho8.execute-api.us-east-1.amazonaws.com/abgtQuiz?event={\"t\": \"get_specific_day\", \"date\": \"2024-03-21\"}'"
      ]
     },
     "execution_count": 15,
     "metadata": {},
     "output_type": "execute_result"
    }
   ],
   "source": [
    "new_url"
   ]
  },
  {
   "cell_type": "code",
   "execution_count": 16,
   "id": "9cd6ccd5-d398-4853-a9e5-e83de27a9f91",
   "metadata": {},
   "outputs": [],
   "source": [
    "response = requests.get(new_url)"
   ]
  },
  {
   "cell_type": "code",
   "execution_count": 28,
   "id": "512a23f2-0a17-4cdd-b74d-235787c19e70",
   "metadata": {},
   "outputs": [
    {
     "data": {
      "text/plain": [
       "25"
      ]
     },
     "execution_count": 28,
     "metadata": {},
     "output_type": "execute_result"
    }
   ],
   "source": [
    "len()"
   ]
  },
  {
   "cell_type": "code",
   "execution_count": 30,
   "id": "c6303e0b-d89c-48a1-adad-ac88e439858e",
   "metadata": {},
   "outputs": [],
   "source": [
    "today = response.json()['2024-03-22']"
   ]
  },
  {
   "cell_type": "code",
   "execution_count": 34,
   "id": "5122346b-0c38-4f5e-8ddc-8115ff8ca4fe",
   "metadata": {},
   "outputs": [
    {
     "data": {
      "text/plain": [
       "list"
      ]
     },
     "execution_count": 34,
     "metadata": {},
     "output_type": "execute_result"
    }
   ],
   "source": [
    "type(today)"
   ]
  },
  {
   "cell_type": "code",
   "execution_count": 32,
   "id": "4d608d86-81f6-4be3-b80e-51114d4277e1",
   "metadata": {},
   "outputs": [
    {
     "name": "stdout",
     "output_type": "stream",
     "text": [
      "Today's date (YYYY-MM-DD): 2024-03-22\n"
     ]
    }
   ],
   "source": [
    "from datetime import datetime\n",
    "\n",
    "# Get today's date\n",
    "today_date = datetime.today().date()\n",
    "\n",
    "# Format today's date as YYYY-MM-DD\n",
    "formatted_date = today_date.strftime('%Y-%m-%d')\n",
    "\n",
    "print(\"Today's date (YYYY-MM-DD):\", formatted_date)\n"
   ]
  },
  {
   "cell_type": "code",
   "execution_count": 43,
   "id": "57756c1b-906a-49af-9462-9e142b1297f9",
   "metadata": {},
   "outputs": [],
   "source": [
    "import random\n",
    "inst  = random.randint(0, 2**32 - 1)\n",
    "inst = bin(inst)[2:].zfill(32)"
   ]
  },
  {
   "cell_type": "code",
   "execution_count": 46,
   "id": "d828d70b-8e80-4bb7-bf20-5e8538a41059",
   "metadata": {},
   "outputs": [
    {
     "data": {
      "text/plain": [
       "21"
      ]
     },
     "execution_count": 46,
     "metadata": {},
     "output_type": "execute_result"
    }
   ],
   "source": [
    "len(inst[31]+inst[12:20]+inst[20]+inst[21:31]+'0')"
   ]
  },
  {
   "cell_type": "code",
   "execution_count": 2,
   "id": "4461ec54-cb1f-4665-a228-bb17e4980774",
   "metadata": {},
   "outputs": [],
   "source": [
    "def get_line_count(filename):\n",
    "    line_count = 0\n",
    "\n",
    "    try:\n",
    "        with open(filename, 'r') as file:\n",
    "            for line in file:\n",
    "                line_count += 1\n",
    "    except FileNotFoundError:\n",
    "        pass\n",
    "\n",
    "    return line_count"
   ]
  },
  {
   "cell_type": "code",
   "execution_count": 5,
   "id": "632c8e3e-6ac2-43c7-9489-71465af32e50",
   "metadata": {},
   "outputs": [
    {
     "name": "stdout",
     "output_type": "stream",
     "text": [
      "132\n",
      "1\n",
      "0\n",
      "111\n",
      "131\n",
      "0\n",
      "93\n",
      "134\n",
      "116\n",
      "108\n",
      "0\n",
      "57\n",
      "69\n",
      "80\n"
     ]
    }
   ],
   "source": [
    "data = {}\n",
    "for i in range (11, 25):\n",
    "    filename = 'taps/taps(03-%s).txt' %i\n",
    "    ct = get_line_count(filename)\n",
    "    "
   ]
  }
 ],
 "metadata": {
  "kernelspec": {
   "display_name": "Python 3 (ipykernel)",
   "language": "python",
   "name": "python3"
  },
  "language_info": {
   "codemirror_mode": {
    "name": "ipython",
    "version": 3
   },
   "file_extension": ".py",
   "mimetype": "text/x-python",
   "name": "python",
   "nbconvert_exporter": "python",
   "pygments_lexer": "ipython3",
   "version": "3.9.6"
  }
 },
 "nbformat": 4,
 "nbformat_minor": 5
}
